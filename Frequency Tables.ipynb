{
 "cells": [
  {
   "cell_type": "code",
   "execution_count": 70,
   "id": "2c6d3c23",
   "metadata": {},
   "outputs": [],
   "source": [
    "import matplotlib.pyplot as plt\n",
    "import numpy as np\n",
    "import pandas as pd\n",
    "\n",
    "protein_list = [\"P00734\", \"P00734\", \"P05164\", \"P00747\", \"P02671\", \"P05121\", \"Q03405\", \"P00747\", \"P05120\", \"P05121\", \"P05154\", \"P14543\", \"P39900\", \"Q03405\",\"Q03405\",\"Q03405\", \"P00734\", \"P05164\", \"P00747\", \"P00734\", \"P05164\", \"P00747\", \"P14543\", \"P39900\", \"P14543\", \"P39900\", \"P14543\", \"P39900\", \"P14543\", \"P39900\", \"P14543\", \"P39900\", \"P05154\", \"P05155\", \"P05156\", \"P05157\", \"P05158\", \"P05159\", \"P05160\", \"P05161\", \"P05162\", \"P05163\", \"P05160\",\"P05160\",\"P05160\",\"P05160\",\"P05160\",\"P05160\",\"P05160\",\"P05160\",\"P05160\",\"P05160\",\"P05160\",\"P05160\", \"P05161\", \"P05161\", \"P05161\", \"P05161\",\"P05161\",\"P05161\",\"P05161\",\"P05161\"]\n",
    "\n",
    "def make_frequency_table(string_list):\n",
    "    df = pd.DataFrame(string_list, columns = [\"Proteins\"]) #creates a dataframe from list of proteins\n",
    "    df_descending_frequency = pd.DataFrame(df['Proteins'].value_counts()) #creates a another dataframe from the table of proteins and their counts\n",
    "    df_descending_frequency = df_descending_frequency.reset_index() #resets column names\n",
    "    df_descending_frequency.columns = ['Proteins', 'Frequency'] #renames the new dataframe so that the second column is named Frequency\n",
    "\n",
    "def make_frequency_plot(df, n):\n",
    "    #make into separate function (everything below)\n",
    "    df = df.head(n) #makes a more concise dataframe with only top n proteins\n",
    "    \n",
    "    df = df['Frequency'].plot(kind = 'bar', title = \"Frequencies of UniProt IDs\") #creates a barplot of the protein ids and organizes it in descending order\n",
    "    df.set_xlabel(\"UniProt ID\") #sets x axis label to UniProt ID\n",
    "    df.set_ylabel(\"Frequency\") #sets y axis label to Frequency"
   ]
  },
  {
   "cell_type": "code",
   "execution_count": 71,
   "id": "3fd34706",
   "metadata": {},
   "outputs": [
    {
     "name": "stdout",
     "output_type": "stream",
     "text": [
      "   Proteins  Frequency\n",
      "0    P05160         13\n",
      "1    P05161          9\n",
      "2    P14543          6\n",
      "3    P39900          6\n",
      "4    P00734          4\n",
      "5    Q03405          4\n",
      "6    P00747          4\n",
      "7    P05164          3\n",
      "8    P05121          2\n",
      "9    P05154          2\n",
      "10   P05159          1\n",
      "11   P05163          1\n",
      "12   P02671          1\n",
      "13   P05156          1\n",
      "14   P05120          1\n",
      "15   P05162          1\n",
      "16   P05158          1\n",
      "17   P05157          1\n",
      "18   P05155          1\n"
     ]
    }
   ],
   "source": [
    "make_frequency_table(protein_list)\n",
    "print(df_descending_frequency)\n",
    "#make_frequency_plot(df_descending_frequency, 10)"
   ]
  },
  {
   "cell_type": "code",
   "execution_count": 52,
   "id": "5431ea7c",
   "metadata": {},
   "outputs": [],
   "source": [
    "protein_list = [\"P00734\", \"P00734\", \"P05164\", \"P00747\", \"P02671\", \"P05121\", \"Q03405\", \"P00747\", \"P05120\", \"P05121\", \"P05154\", \"P14543\", \"P39900\", \"Q03405\",\"Q03405\",\"Q03405\", \"P00734\", \"P05164\", \"P00747\", \"P00734\", \"P05164\", \"P00747\", \"P14543\", \"P39900\", \"P14543\", \"P39900\", \"P14543\", \"P39900\", \"P14543\", \"P39900\", \"P14543\", \"P39900\", \"P05154\", \"P05155\", \"P05156\", \"P05157\", \"P05158\", \"P05159\", \"P05160\", \"P05161\", \"P05162\", \"P05163\", \"P05160\",\"P05160\",\"P05160\",\"P05160\",\"P05160\",\"P05160\",\"P05160\",\"P05160\",\"P05160\",\"P05160\",\"P05160\",\"P05160\", \"P05161\", \"P05161\", \"P05161\", \"P05161\",\"P05161\",\"P05161\",\"P05161\",\"P05161\"]\n",
    "\n",
    "def make_frequency_csv(list, filename):\n",
    "    #saves it in descending order\n",
    "   \n",
    "    df = pd.DataFrame(list, columns = [\"Proteins\"])#creates a dataframe from list of proteins\n",
    "    value_counts = df['Proteins'].value_counts() #gets the counts from the list of the proteins\n",
    "    \n",
    "    df_descending_frequency = pd.DataFrame(value_counts) #creates a new dataframe with the value_counts in there\n",
    "    df_descending_frequency = df_descending_frequency.reset_index() #resets column names\n",
    "    df_descending_frequency.columns = ['Proteins', 'Frequency'] # change column names\n",
    "    print(df_descending_frequency)\n",
    "    df_descending_frequency.to_csv(filename) #saves it in descending order"
   ]
  },
  {
   "cell_type": "code",
   "execution_count": 53,
   "id": "8776f8c5",
   "metadata": {},
   "outputs": [
    {
     "name": "stdout",
     "output_type": "stream",
     "text": [
      "   Proteins  Frequency\n",
      "0    P05160         13\n",
      "1    P05161          9\n",
      "2    P14543          6\n",
      "3    P39900          6\n",
      "4    P00734          4\n",
      "5    Q03405          4\n",
      "6    P00747          4\n",
      "7    P05164          3\n",
      "8    P05121          2\n",
      "9    P05154          2\n",
      "10   P05159          1\n",
      "11   P05163          1\n",
      "12   P02671          1\n",
      "13   P05156          1\n",
      "14   P05120          1\n",
      "15   P05162          1\n",
      "16   P05158          1\n",
      "17   P05157          1\n",
      "18   P05155          1\n"
     ]
    }
   ],
   "source": [
    "protein_list = [\"P00734\", \"P00734\", \"P05164\", \"P00747\", \"P02671\", \"P05121\", \"Q03405\", \"P00747\", \"P05120\", \"P05121\", \"P05154\", \"P14543\", \"P39900\", \"Q03405\",\"Q03405\",\"Q03405\", \"P00734\", \"P05164\", \"P00747\", \"P00734\", \"P05164\", \"P00747\", \"P14543\", \"P39900\", \"P14543\", \"P39900\", \"P14543\", \"P39900\", \"P14543\", \"P39900\", \"P14543\", \"P39900\", \"P05154\", \"P05155\", \"P05156\", \"P05157\", \"P05158\", \"P05159\", \"P05160\", \"P05161\", \"P05162\", \"P05163\", \"P05160\",\"P05160\",\"P05160\",\"P05160\",\"P05160\",\"P05160\",\"P05160\",\"P05160\",\"P05160\",\"P05160\",\"P05160\",\"P05160\", \"P05161\", \"P05161\", \"P05161\", \"P05161\",\"P05161\",\"P05161\",\"P05161\",\"P05161\"]\n",
    "\n",
    "make_frequency_csv(protein_list)"
   ]
  },
  {
   "cell_type": "code",
   "execution_count": null,
   "id": "6ded2165",
   "metadata": {},
   "outputs": [],
   "source": []
  }
 ],
 "metadata": {
  "kernelspec": {
   "display_name": "Python 3",
   "language": "python",
   "name": "python3"
  },
  "language_info": {
   "codemirror_mode": {
    "name": "ipython",
    "version": 3
   },
   "file_extension": ".py",
   "mimetype": "text/x-python",
   "name": "python",
   "nbconvert_exporter": "python",
   "pygments_lexer": "ipython3",
   "version": "3.8.8"
  }
 },
 "nbformat": 4,
 "nbformat_minor": 5
}
